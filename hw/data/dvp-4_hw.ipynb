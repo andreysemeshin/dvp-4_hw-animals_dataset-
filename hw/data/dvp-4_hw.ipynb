{
 "cells": [
  {
   "cell_type": "markdown",
   "metadata": {},
   "source": [
    "Вы получили основные навыки обработки данных, теперь пора испытать их на практике. Сейчас вам предстоит заняться задачей классификации.\n",
    "\n",
    "Представлен датасет центра приюта животных, и вашей задачей будет обучить модель таким образом, чтобы  по определенным признакам была возможность максимально уверенно предсказать метки 'Adoption' и 'Transfer' (столбец “outcome_type”).\n",
    "\n",
    "Здесь вы вольны делать что угодно. Я хочу видеть от вас:\n",
    "1. Проверка наличия/обработка пропусков\n",
    "2. Проверьте взаимосвязи между признаками\n",
    "3. Попробуйте создать свои признаки\n",
    "4. Удалите лишние\n",
    "5. Обратите внимание на текстовые столбцы. Подумайте, что можно извлечь полезного оттуда\n",
    "6. Использование профайлера вам поможет.\n",
    "7. Не забывайте, что у вас есть PCA (Метод главных компонент). Он может пригодиться.\n",
    "\n",
    "Вспомните о всем, что я говорил на предыдущих занятиях. Не все будет пригодится, но в жизни вам никто не будет говорить, что использовать :)\n",
    "\n",
    "Хорошим классификатором для этой задачи будет \"Случайный лес\" (https://scikit-learn.org/stable/modules/generated/sklearn.ensemble.RandomForestClassifier.html)\n",
    "\n",
    "Понимать суть работы \"леса\" не обязательно на данном этапе, но качество предсказаний будет выше, чем с линейным классификатором. (если желаете, вот гайд https://adataanalyst.com/scikit-learn/linear-classification-method/)\n",
    "\n",
    "Желаю успеха :)"
   ]
  },
  {
   "cell_type": "code",
   "execution_count": 128,
   "metadata": {},
   "outputs": [],
   "source": [
    "import pandas as pd\n",
    "import numpy as np\n",
    "import seaborn as sns\n",
    "import matplotlib.pyplot as plt\n",
    "from datetime import datetime\n",
    "import datetime as dt\n",
    "from sklearn.preprocessing import OneHotEncoder\n",
    "from sklearn.model_selection import train_test_split\n",
    "from sklearn.ensemble import RandomForestClassifier"
   ]
  },
  {
   "cell_type": "code",
   "execution_count": 129,
   "metadata": {},
   "outputs": [
    {
     "data": {
      "text/plain": [
       "(78256, 12)"
      ]
     },
     "execution_count": 129,
     "metadata": {},
     "output_type": "execute_result"
    }
   ],
   "source": [
    "df = pd.read_csv('aac_shelter_outcomes.csv')\n",
    "df.shape"
   ]
  },
  {
   "cell_type": "code",
   "execution_count": 130,
   "metadata": {},
   "outputs": [
    {
     "data": {
      "text/html": [
       "<div>\n",
       "<style scoped>\n",
       "    .dataframe tbody tr th:only-of-type {\n",
       "        vertical-align: middle;\n",
       "    }\n",
       "\n",
       "    .dataframe tbody tr th {\n",
       "        vertical-align: top;\n",
       "    }\n",
       "\n",
       "    .dataframe thead th {\n",
       "        text-align: right;\n",
       "    }\n",
       "</style>\n",
       "<table border=\"1\" class=\"dataframe\">\n",
       "  <thead>\n",
       "    <tr style=\"text-align: right;\">\n",
       "      <th></th>\n",
       "      <th>age_upon_outcome</th>\n",
       "      <th>animal_id</th>\n",
       "      <th>animal_type</th>\n",
       "      <th>breed</th>\n",
       "      <th>color</th>\n",
       "      <th>date_of_birth</th>\n",
       "      <th>datetime</th>\n",
       "      <th>monthyear</th>\n",
       "      <th>name</th>\n",
       "      <th>outcome_subtype</th>\n",
       "      <th>outcome_type</th>\n",
       "      <th>sex_upon_outcome</th>\n",
       "    </tr>\n",
       "  </thead>\n",
       "  <tbody>\n",
       "    <tr>\n",
       "      <th>0</th>\n",
       "      <td>2 weeks</td>\n",
       "      <td>A684346</td>\n",
       "      <td>Cat</td>\n",
       "      <td>Domestic Shorthair Mix</td>\n",
       "      <td>Orange Tabby</td>\n",
       "      <td>2014-07-07T00:00:00</td>\n",
       "      <td>2014-07-22T16:04:00</td>\n",
       "      <td>2014-07-22T16:04:00</td>\n",
       "      <td>NaN</td>\n",
       "      <td>Partner</td>\n",
       "      <td>Transfer</td>\n",
       "      <td>Intact Male</td>\n",
       "    </tr>\n",
       "    <tr>\n",
       "      <th>1</th>\n",
       "      <td>1 year</td>\n",
       "      <td>A666430</td>\n",
       "      <td>Dog</td>\n",
       "      <td>Beagle Mix</td>\n",
       "      <td>White/Brown</td>\n",
       "      <td>2012-11-06T00:00:00</td>\n",
       "      <td>2013-11-07T11:47:00</td>\n",
       "      <td>2013-11-07T11:47:00</td>\n",
       "      <td>Lucy</td>\n",
       "      <td>Partner</td>\n",
       "      <td>Transfer</td>\n",
       "      <td>Spayed Female</td>\n",
       "    </tr>\n",
       "    <tr>\n",
       "      <th>2</th>\n",
       "      <td>1 year</td>\n",
       "      <td>A675708</td>\n",
       "      <td>Dog</td>\n",
       "      <td>Pit Bull</td>\n",
       "      <td>Blue/White</td>\n",
       "      <td>2013-03-31T00:00:00</td>\n",
       "      <td>2014-06-03T14:20:00</td>\n",
       "      <td>2014-06-03T14:20:00</td>\n",
       "      <td>*Johnny</td>\n",
       "      <td>NaN</td>\n",
       "      <td>Adoption</td>\n",
       "      <td>Neutered Male</td>\n",
       "    </tr>\n",
       "    <tr>\n",
       "      <th>3</th>\n",
       "      <td>9 years</td>\n",
       "      <td>A680386</td>\n",
       "      <td>Dog</td>\n",
       "      <td>Miniature Schnauzer Mix</td>\n",
       "      <td>White</td>\n",
       "      <td>2005-06-02T00:00:00</td>\n",
       "      <td>2014-06-15T15:50:00</td>\n",
       "      <td>2014-06-15T15:50:00</td>\n",
       "      <td>Monday</td>\n",
       "      <td>Partner</td>\n",
       "      <td>Transfer</td>\n",
       "      <td>Neutered Male</td>\n",
       "    </tr>\n",
       "    <tr>\n",
       "      <th>4</th>\n",
       "      <td>5 months</td>\n",
       "      <td>A683115</td>\n",
       "      <td>Other</td>\n",
       "      <td>Bat Mix</td>\n",
       "      <td>Brown</td>\n",
       "      <td>2014-01-07T00:00:00</td>\n",
       "      <td>2014-07-07T14:04:00</td>\n",
       "      <td>2014-07-07T14:04:00</td>\n",
       "      <td>NaN</td>\n",
       "      <td>Rabies Risk</td>\n",
       "      <td>Euthanasia</td>\n",
       "      <td>Unknown</td>\n",
       "    </tr>\n",
       "  </tbody>\n",
       "</table>\n",
       "</div>"
      ],
      "text/plain": [
       "  age_upon_outcome animal_id animal_type                    breed  \\\n",
       "0          2 weeks   A684346         Cat   Domestic Shorthair Mix   \n",
       "1           1 year   A666430         Dog               Beagle Mix   \n",
       "2           1 year   A675708         Dog                 Pit Bull   \n",
       "3          9 years   A680386         Dog  Miniature Schnauzer Mix   \n",
       "4         5 months   A683115       Other                  Bat Mix   \n",
       "\n",
       "          color        date_of_birth             datetime  \\\n",
       "0  Orange Tabby  2014-07-07T00:00:00  2014-07-22T16:04:00   \n",
       "1   White/Brown  2012-11-06T00:00:00  2013-11-07T11:47:00   \n",
       "2    Blue/White  2013-03-31T00:00:00  2014-06-03T14:20:00   \n",
       "3         White  2005-06-02T00:00:00  2014-06-15T15:50:00   \n",
       "4         Brown  2014-01-07T00:00:00  2014-07-07T14:04:00   \n",
       "\n",
       "             monthyear     name outcome_subtype outcome_type sex_upon_outcome  \n",
       "0  2014-07-22T16:04:00      NaN         Partner     Transfer      Intact Male  \n",
       "1  2013-11-07T11:47:00     Lucy         Partner     Transfer    Spayed Female  \n",
       "2  2014-06-03T14:20:00  *Johnny             NaN     Adoption    Neutered Male  \n",
       "3  2014-06-15T15:50:00   Monday         Partner     Transfer    Neutered Male  \n",
       "4  2014-07-07T14:04:00      NaN     Rabies Risk   Euthanasia          Unknown  "
      ]
     },
     "execution_count": 130,
     "metadata": {},
     "output_type": "execute_result"
    }
   ],
   "source": [
    "df.head()"
   ]
  },
  {
   "cell_type": "code",
   "execution_count": 131,
   "metadata": {},
   "outputs": [
    {
     "name": "stdout",
     "output_type": "stream",
     "text": [
      "<class 'pandas.core.frame.DataFrame'>\n",
      "RangeIndex: 78256 entries, 0 to 78255\n",
      "Data columns (total 12 columns):\n",
      "age_upon_outcome    78248 non-null object\n",
      "animal_id           78256 non-null object\n",
      "animal_type         78256 non-null object\n",
      "breed               78256 non-null object\n",
      "color               78256 non-null object\n",
      "date_of_birth       78256 non-null object\n",
      "datetime            78256 non-null object\n",
      "monthyear           78256 non-null object\n",
      "name                54370 non-null object\n",
      "outcome_subtype     35963 non-null object\n",
      "outcome_type        78244 non-null object\n",
      "sex_upon_outcome    78254 non-null object\n",
      "dtypes: object(12)\n",
      "memory usage: 7.2+ MB\n"
     ]
    }
   ],
   "source": [
    "df.info()"
   ]
  },
  {
   "cell_type": "code",
   "execution_count": 132,
   "metadata": {},
   "outputs": [
    {
     "data": {
      "text/plain": [
       "age_upon_outcome    0\n",
       "animal_id           0\n",
       "animal_type         0\n",
       "breed               0\n",
       "color               0\n",
       "date_of_birth       0\n",
       "datetime            0\n",
       "monthyear           0\n",
       "name                0\n",
       "outcome_subtype     0\n",
       "outcome_type        0\n",
       "sex_upon_outcome    0\n",
       "dtype: int64"
      ]
     },
     "execution_count": 132,
     "metadata": {},
     "output_type": "execute_result"
    }
   ],
   "source": [
    "# эти два столбца дублируют друг друга. -удалим\n",
    "df[ df['datetime']!=df['monthyear'] ].count()"
   ]
  },
  {
   "cell_type": "code",
   "execution_count": 133,
   "metadata": {},
   "outputs": [],
   "source": [
    "# Удалим столбцы  monthyear(дубль datetime), age_upon_outcome(его можно вычислить точнее с помощью dateofbirth и datetime),\n",
    "# name(имя для животного не важно+ заполено частично), animal_id(id не влияет ни на что)\n",
    "# также с помощью профайлера увидел что в outcome_subtype много пропущенных значений, это поле также стоит удалить"
   ]
  },
  {
   "cell_type": "code",
   "execution_count": 134,
   "metadata": {},
   "outputs": [
    {
     "data": {
      "text/html": [
       "<div>\n",
       "<style scoped>\n",
       "    .dataframe tbody tr th:only-of-type {\n",
       "        vertical-align: middle;\n",
       "    }\n",
       "\n",
       "    .dataframe tbody tr th {\n",
       "        vertical-align: top;\n",
       "    }\n",
       "\n",
       "    .dataframe thead th {\n",
       "        text-align: right;\n",
       "    }\n",
       "</style>\n",
       "<table border=\"1\" class=\"dataframe\">\n",
       "  <thead>\n",
       "    <tr style=\"text-align: right;\">\n",
       "      <th></th>\n",
       "      <th>animal_type</th>\n",
       "      <th>breed</th>\n",
       "      <th>color</th>\n",
       "      <th>date_of_birth</th>\n",
       "      <th>datetime</th>\n",
       "      <th>outcome_type</th>\n",
       "      <th>sex_upon_outcome</th>\n",
       "    </tr>\n",
       "  </thead>\n",
       "  <tbody>\n",
       "    <tr>\n",
       "      <th>0</th>\n",
       "      <td>Cat</td>\n",
       "      <td>Domestic Shorthair Mix</td>\n",
       "      <td>Orange Tabby</td>\n",
       "      <td>2014-07-07T00:00:00</td>\n",
       "      <td>2014-07-22T16:04:00</td>\n",
       "      <td>Transfer</td>\n",
       "      <td>Intact Male</td>\n",
       "    </tr>\n",
       "    <tr>\n",
       "      <th>1</th>\n",
       "      <td>Dog</td>\n",
       "      <td>Beagle Mix</td>\n",
       "      <td>White/Brown</td>\n",
       "      <td>2012-11-06T00:00:00</td>\n",
       "      <td>2013-11-07T11:47:00</td>\n",
       "      <td>Transfer</td>\n",
       "      <td>Spayed Female</td>\n",
       "    </tr>\n",
       "    <tr>\n",
       "      <th>2</th>\n",
       "      <td>Dog</td>\n",
       "      <td>Pit Bull</td>\n",
       "      <td>Blue/White</td>\n",
       "      <td>2013-03-31T00:00:00</td>\n",
       "      <td>2014-06-03T14:20:00</td>\n",
       "      <td>Adoption</td>\n",
       "      <td>Neutered Male</td>\n",
       "    </tr>\n",
       "    <tr>\n",
       "      <th>3</th>\n",
       "      <td>Dog</td>\n",
       "      <td>Miniature Schnauzer Mix</td>\n",
       "      <td>White</td>\n",
       "      <td>2005-06-02T00:00:00</td>\n",
       "      <td>2014-06-15T15:50:00</td>\n",
       "      <td>Transfer</td>\n",
       "      <td>Neutered Male</td>\n",
       "    </tr>\n",
       "    <tr>\n",
       "      <th>4</th>\n",
       "      <td>Other</td>\n",
       "      <td>Bat Mix</td>\n",
       "      <td>Brown</td>\n",
       "      <td>2014-01-07T00:00:00</td>\n",
       "      <td>2014-07-07T14:04:00</td>\n",
       "      <td>Euthanasia</td>\n",
       "      <td>Unknown</td>\n",
       "    </tr>\n",
       "  </tbody>\n",
       "</table>\n",
       "</div>"
      ],
      "text/plain": [
       "  animal_type                    breed         color        date_of_birth  \\\n",
       "0         Cat   Domestic Shorthair Mix  Orange Tabby  2014-07-07T00:00:00   \n",
       "1         Dog               Beagle Mix   White/Brown  2012-11-06T00:00:00   \n",
       "2         Dog                 Pit Bull    Blue/White  2013-03-31T00:00:00   \n",
       "3         Dog  Miniature Schnauzer Mix         White  2005-06-02T00:00:00   \n",
       "4       Other                  Bat Mix         Brown  2014-01-07T00:00:00   \n",
       "\n",
       "              datetime outcome_type sex_upon_outcome  \n",
       "0  2014-07-22T16:04:00     Transfer      Intact Male  \n",
       "1  2013-11-07T11:47:00     Transfer    Spayed Female  \n",
       "2  2014-06-03T14:20:00     Adoption    Neutered Male  \n",
       "3  2014-06-15T15:50:00     Transfer    Neutered Male  \n",
       "4  2014-07-07T14:04:00   Euthanasia          Unknown  "
      ]
     },
     "execution_count": 134,
     "metadata": {},
     "output_type": "execute_result"
    }
   ],
   "source": [
    "df = df.drop(columns=['monthyear','name','animal_id', 'age_upon_outcome','outcome_subtype'])\n",
    "df.head()"
   ]
  },
  {
   "cell_type": "code",
   "execution_count": 135,
   "metadata": {},
   "outputs": [
    {
     "data": {
      "text/plain": [
       "array(['Transfer', 'Adoption', 'Euthanasia', 'Return to Owner', 'Died',\n",
       "       'Disposal', 'Relocate', 'Missing', nan, 'Rto-Adopt'], dtype=object)"
      ]
     },
     "execution_count": 135,
     "metadata": {},
     "output_type": "execute_result"
    }
   ],
   "source": [
    "df['outcome_type'].unique()"
   ]
  },
  {
   "cell_type": "code",
   "execution_count": 136,
   "metadata": {},
   "outputs": [
    {
     "data": {
      "text/plain": [
       "(56611, 7)"
      ]
     },
     "execution_count": 136,
     "metadata": {},
     "output_type": "execute_result"
    }
   ],
   "source": [
    "# удалим строки датасета где нет признаков adoption и transfer\n",
    "df = df[ df['outcome_type'].isin(['Transfer', 'Adoption']) ]\n",
    "df.shape"
   ]
  },
  {
   "cell_type": "code",
   "execution_count": 137,
   "metadata": {},
   "outputs": [
    {
     "data": {
      "text/html": [
       "<div>\n",
       "<style scoped>\n",
       "    .dataframe tbody tr th:only-of-type {\n",
       "        vertical-align: middle;\n",
       "    }\n",
       "\n",
       "    .dataframe tbody tr th {\n",
       "        vertical-align: top;\n",
       "    }\n",
       "\n",
       "    .dataframe thead th {\n",
       "        text-align: right;\n",
       "    }\n",
       "</style>\n",
       "<table border=\"1\" class=\"dataframe\">\n",
       "  <thead>\n",
       "    <tr style=\"text-align: right;\">\n",
       "      <th></th>\n",
       "      <th>animal_type</th>\n",
       "      <th>breed</th>\n",
       "      <th>color</th>\n",
       "      <th>datetime</th>\n",
       "      <th>outcome_type</th>\n",
       "      <th>sex_upon_outcome</th>\n",
       "      <th>days_upon_outcome</th>\n",
       "    </tr>\n",
       "  </thead>\n",
       "  <tbody>\n",
       "    <tr>\n",
       "      <th>0</th>\n",
       "      <td>Cat</td>\n",
       "      <td>Domestic Shorthair Mix</td>\n",
       "      <td>Orange Tabby</td>\n",
       "      <td>735436</td>\n",
       "      <td>Transfer</td>\n",
       "      <td>Intact Male</td>\n",
       "      <td>15</td>\n",
       "    </tr>\n",
       "    <tr>\n",
       "      <th>1</th>\n",
       "      <td>Dog</td>\n",
       "      <td>Beagle Mix</td>\n",
       "      <td>White/Brown</td>\n",
       "      <td>735179</td>\n",
       "      <td>Transfer</td>\n",
       "      <td>Spayed Female</td>\n",
       "      <td>366</td>\n",
       "    </tr>\n",
       "    <tr>\n",
       "      <th>2</th>\n",
       "      <td>Dog</td>\n",
       "      <td>Pit Bull</td>\n",
       "      <td>Blue/White</td>\n",
       "      <td>735387</td>\n",
       "      <td>Adoption</td>\n",
       "      <td>Neutered Male</td>\n",
       "      <td>429</td>\n",
       "    </tr>\n",
       "    <tr>\n",
       "      <th>3</th>\n",
       "      <td>Dog</td>\n",
       "      <td>Miniature Schnauzer Mix</td>\n",
       "      <td>White</td>\n",
       "      <td>735399</td>\n",
       "      <td>Transfer</td>\n",
       "      <td>Neutered Male</td>\n",
       "      <td>3300</td>\n",
       "    </tr>\n",
       "    <tr>\n",
       "      <th>5</th>\n",
       "      <td>Dog</td>\n",
       "      <td>Leonberger Mix</td>\n",
       "      <td>Brown/White</td>\n",
       "      <td>735148</td>\n",
       "      <td>Transfer</td>\n",
       "      <td>Intact Male</td>\n",
       "      <td>126</td>\n",
       "    </tr>\n",
       "  </tbody>\n",
       "</table>\n",
       "</div>"
      ],
      "text/plain": [
       "  animal_type                    breed         color  datetime outcome_type  \\\n",
       "0         Cat   Domestic Shorthair Mix  Orange Tabby    735436     Transfer   \n",
       "1         Dog               Beagle Mix   White/Brown    735179     Transfer   \n",
       "2         Dog                 Pit Bull    Blue/White    735387     Adoption   \n",
       "3         Dog  Miniature Schnauzer Mix         White    735399     Transfer   \n",
       "5         Dog           Leonberger Mix   Brown/White    735148     Transfer   \n",
       "\n",
       "  sex_upon_outcome  days_upon_outcome  \n",
       "0      Intact Male                 15  \n",
       "1    Spayed Female                366  \n",
       "2    Neutered Male                429  \n",
       "3    Neutered Male               3300  \n",
       "5      Intact Male                126  "
      ]
     },
     "execution_count": 137,
     "metadata": {},
     "output_type": "execute_result"
    }
   ],
   "source": [
    "# создадим новую переменную, возраст животного в днях когда его забрали из приюта\n",
    "# а после удалим переменную date_of_birth так как больше не понадобится\n",
    "# и приведем поле datetime в числовую переменную, понятную программе при обучении\n",
    "df['days_upon_outcome'] = (pd.to_datetime(df.datetime, format = '%Y-%m-%dT%H:%M:%S') - pd.to_datetime(df.date_of_birth, format = '%Y-%m-%dT%H:%M:%S')).dt.days\n",
    "df = df.drop('date_of_birth', axis=1)\n",
    "df['datetime'] = pd.to_datetime(df.datetime).map(dt.datetime.toordinal)\n",
    "df.head(5)"
   ]
  },
  {
   "cell_type": "code",
   "execution_count": 138,
   "metadata": {},
   "outputs": [
    {
     "data": {
      "text/plain": [
       "<matplotlib.axes._subplots.AxesSubplot at 0x1a22a38f10>"
      ]
     },
     "execution_count": 138,
     "metadata": {},
     "output_type": "execute_result"
    },
    {
     "data": {
      "image/png": "[encoded data removed]",
      "text/plain": [
       "<Figure size 864x432 with 1 Axes>"
      ]
     },
     "metadata": {
      "needs_background": "light"
     },
     "output_type": "display_data"
    }
   ],
   "source": [
    "plt.figure(figsize=(12,6))\n",
    "sns.boxplot(x=df['days_upon_outcome']) "
   ]
  },
  {
   "cell_type": "code",
   "execution_count": 139,
   "metadata": {},
   "outputs": [
    {
     "data": {
      "text/plain": [
       "count    56611.000000\n",
       "mean       632.756019\n",
       "std        907.937047\n",
       "min       -123.000000\n",
       "25%         78.000000\n",
       "50%        312.000000\n",
       "75%        742.000000\n",
       "max       9137.000000\n",
       "Name: days_upon_outcome, dtype: float64"
      ]
     },
     "execution_count": 139,
     "metadata": {},
     "output_type": "execute_result"
    }
   ],
   "source": [
    "df['days_upon_outcome'].describe()"
   ]
  },
  {
   "cell_type": "code",
   "execution_count": 140,
   "metadata": {},
   "outputs": [],
   "source": [
    "#из анализа переменной видно что есть отрицаетльные значения, их удалим так как это ошибка\n",
    "# также удалим выбросы - значения больше 5 тыс. дней"
   ]
  },
  {
   "cell_type": "code",
   "execution_count": 141,
   "metadata": {},
   "outputs": [
    {
     "data": {
      "text/plain": [
       "count    56389.000000\n",
       "mean       614.084644\n",
       "std        857.029502\n",
       "min          0.000000\n",
       "25%         78.000000\n",
       "50%        311.000000\n",
       "75%        741.000000\n",
       "max       4969.000000\n",
       "Name: days_upon_outcome, dtype: float64"
      ]
     },
     "execution_count": 141,
     "metadata": {},
     "output_type": "execute_result"
    }
   ],
   "source": [
    "df = df[ (df['days_upon_outcome']>=0) & (df['days_upon_outcome']<=5000) ]\n",
    "df.days_upon_outcome.describe()"
   ]
  },
  {
   "cell_type": "code",
   "execution_count": 142,
   "metadata": {},
   "outputs": [
    {
     "data": {
      "text/html": [
       "<div>\n",
       "<style scoped>\n",
       "    .dataframe tbody tr th:only-of-type {\n",
       "        vertical-align: middle;\n",
       "    }\n",
       "\n",
       "    .dataframe tbody tr th {\n",
       "        vertical-align: top;\n",
       "    }\n",
       "\n",
       "    .dataframe thead th {\n",
       "        text-align: right;\n",
       "    }\n",
       "</style>\n",
       "<table border=\"1\" class=\"dataframe\">\n",
       "  <thead>\n",
       "    <tr style=\"text-align: right;\">\n",
       "      <th></th>\n",
       "      <th>animal_type</th>\n",
       "      <th>breed</th>\n",
       "      <th>color</th>\n",
       "      <th>datetime</th>\n",
       "      <th>sex_upon_outcome</th>\n",
       "      <th>days_upon_outcome</th>\n",
       "      <th>is_adopted</th>\n",
       "    </tr>\n",
       "  </thead>\n",
       "  <tbody>\n",
       "    <tr>\n",
       "      <th>0</th>\n",
       "      <td>Cat</td>\n",
       "      <td>Domestic Shorthair Mix</td>\n",
       "      <td>Orange Tabby</td>\n",
       "      <td>735436</td>\n",
       "      <td>Intact Male</td>\n",
       "      <td>15</td>\n",
       "      <td>0</td>\n",
       "    </tr>\n",
       "    <tr>\n",
       "      <th>1</th>\n",
       "      <td>Dog</td>\n",
       "      <td>Beagle Mix</td>\n",
       "      <td>White/Brown</td>\n",
       "      <td>735179</td>\n",
       "      <td>Spayed Female</td>\n",
       "      <td>366</td>\n",
       "      <td>0</td>\n",
       "    </tr>\n",
       "    <tr>\n",
       "      <th>2</th>\n",
       "      <td>Dog</td>\n",
       "      <td>Pit Bull</td>\n",
       "      <td>Blue/White</td>\n",
       "      <td>735387</td>\n",
       "      <td>Neutered Male</td>\n",
       "      <td>429</td>\n",
       "      <td>1</td>\n",
       "    </tr>\n",
       "    <tr>\n",
       "      <th>3</th>\n",
       "      <td>Dog</td>\n",
       "      <td>Miniature Schnauzer Mix</td>\n",
       "      <td>White</td>\n",
       "      <td>735399</td>\n",
       "      <td>Neutered Male</td>\n",
       "      <td>3300</td>\n",
       "      <td>0</td>\n",
       "    </tr>\n",
       "    <tr>\n",
       "      <th>5</th>\n",
       "      <td>Dog</td>\n",
       "      <td>Leonberger Mix</td>\n",
       "      <td>Brown/White</td>\n",
       "      <td>735148</td>\n",
       "      <td>Intact Male</td>\n",
       "      <td>126</td>\n",
       "      <td>0</td>\n",
       "    </tr>\n",
       "  </tbody>\n",
       "</table>\n",
       "</div>"
      ],
      "text/plain": [
       "  animal_type                    breed         color  datetime  \\\n",
       "0         Cat   Domestic Shorthair Mix  Orange Tabby    735436   \n",
       "1         Dog               Beagle Mix   White/Brown    735179   \n",
       "2         Dog                 Pit Bull    Blue/White    735387   \n",
       "3         Dog  Miniature Schnauzer Mix         White    735399   \n",
       "5         Dog           Leonberger Mix   Brown/White    735148   \n",
       "\n",
       "  sex_upon_outcome  days_upon_outcome  is_adopted  \n",
       "0      Intact Male                 15           0  \n",
       "1    Spayed Female                366           0  \n",
       "2    Neutered Male                429           1  \n",
       "3    Neutered Male               3300           0  \n",
       "5      Intact Male                126           0  "
      ]
     },
     "execution_count": 142,
     "metadata": {},
     "output_type": "execute_result"
    }
   ],
   "source": [
    "# добавим новую переменную is_adopted, и удалим outcome_type\n",
    "df['is_adopted'] = [ 1 if x=='Adoption' else 0 for x in df.outcome_type ]\n",
    "df = df.drop('outcome_type', axis=1)\n",
    "df.head()"
   ]
  },
  {
   "cell_type": "code",
   "execution_count": 143,
   "metadata": {},
   "outputs": [
    {
     "data": {
      "text/plain": [
       "Neutered Male    20639\n",
       "Spayed Female    19857\n",
       "Intact Female     6857\n",
       "Intact Male       6276\n",
       "Unknown           2760\n",
       "Name: sex_upon_outcome, dtype: int64"
      ]
     },
     "execution_count": 143,
     "metadata": {},
     "output_type": "execute_result"
    }
   ],
   "source": [
    "# переходим к анализу переменной sex_upon_outcome\n",
    "# Считаю что стоит удалить значения где неизвестен пол, часто для хозяев пол животного важен \n",
    "df.sex_upon_outcome.value_counts()"
   ]
  },
  {
   "cell_type": "code",
   "execution_count": 144,
   "metadata": {},
   "outputs": [],
   "source": [
    "df = df[ df['sex_upon_outcome']!='Unknown' ]"
   ]
  },
  {
   "cell_type": "code",
   "execution_count": 145,
   "metadata": {},
   "outputs": [
    {
     "data": {
      "text/html": [
       "<div>\n",
       "<style scoped>\n",
       "    .dataframe tbody tr th:only-of-type {\n",
       "        vertical-align: middle;\n",
       "    }\n",
       "\n",
       "    .dataframe tbody tr th {\n",
       "        vertical-align: top;\n",
       "    }\n",
       "\n",
       "    .dataframe thead th {\n",
       "        text-align: right;\n",
       "    }\n",
       "</style>\n",
       "<table border=\"1\" class=\"dataframe\">\n",
       "  <thead>\n",
       "    <tr style=\"text-align: right;\">\n",
       "      <th></th>\n",
       "      <th>animal_type</th>\n",
       "      <th>breed</th>\n",
       "      <th>color</th>\n",
       "      <th>datetime</th>\n",
       "      <th>days_upon_outcome</th>\n",
       "      <th>is_adopted</th>\n",
       "      <th>is_male</th>\n",
       "      <th>is_female</th>\n",
       "      <th>is_intact</th>\n",
       "    </tr>\n",
       "  </thead>\n",
       "  <tbody>\n",
       "    <tr>\n",
       "      <th>0</th>\n",
       "      <td>Cat</td>\n",
       "      <td>Domestic Shorthair Mix</td>\n",
       "      <td>Orange Tabby</td>\n",
       "      <td>735436</td>\n",
       "      <td>15</td>\n",
       "      <td>0</td>\n",
       "      <td>1</td>\n",
       "      <td>0</td>\n",
       "      <td>1</td>\n",
       "    </tr>\n",
       "    <tr>\n",
       "      <th>1</th>\n",
       "      <td>Dog</td>\n",
       "      <td>Beagle Mix</td>\n",
       "      <td>White/Brown</td>\n",
       "      <td>735179</td>\n",
       "      <td>366</td>\n",
       "      <td>0</td>\n",
       "      <td>0</td>\n",
       "      <td>1</td>\n",
       "      <td>0</td>\n",
       "    </tr>\n",
       "    <tr>\n",
       "      <th>2</th>\n",
       "      <td>Dog</td>\n",
       "      <td>Pit Bull</td>\n",
       "      <td>Blue/White</td>\n",
       "      <td>735387</td>\n",
       "      <td>429</td>\n",
       "      <td>1</td>\n",
       "      <td>1</td>\n",
       "      <td>0</td>\n",
       "      <td>0</td>\n",
       "    </tr>\n",
       "    <tr>\n",
       "      <th>3</th>\n",
       "      <td>Dog</td>\n",
       "      <td>Miniature Schnauzer Mix</td>\n",
       "      <td>White</td>\n",
       "      <td>735399</td>\n",
       "      <td>3300</td>\n",
       "      <td>0</td>\n",
       "      <td>1</td>\n",
       "      <td>0</td>\n",
       "      <td>0</td>\n",
       "    </tr>\n",
       "    <tr>\n",
       "      <th>5</th>\n",
       "      <td>Dog</td>\n",
       "      <td>Leonberger Mix</td>\n",
       "      <td>Brown/White</td>\n",
       "      <td>735148</td>\n",
       "      <td>126</td>\n",
       "      <td>0</td>\n",
       "      <td>1</td>\n",
       "      <td>0</td>\n",
       "      <td>1</td>\n",
       "    </tr>\n",
       "  </tbody>\n",
       "</table>\n",
       "</div>"
      ],
      "text/plain": [
       "  animal_type                    breed         color  datetime  \\\n",
       "0         Cat   Domestic Shorthair Mix  Orange Tabby    735436   \n",
       "1         Dog               Beagle Mix   White/Brown    735179   \n",
       "2         Dog                 Pit Bull    Blue/White    735387   \n",
       "3         Dog  Miniature Schnauzer Mix         White    735399   \n",
       "5         Dog           Leonberger Mix   Brown/White    735148   \n",
       "\n",
       "   days_upon_outcome  is_adopted  is_male  is_female  is_intact  \n",
       "0                 15           0        1          0          1  \n",
       "1                366           0        0          1          0  \n",
       "2                429           1        1          0          0  \n",
       "3               3300           0        1          0          0  \n",
       "5                126           0        1          0          1  "
      ]
     },
     "execution_count": 145,
     "metadata": {},
     "output_type": "execute_result"
    }
   ],
   "source": [
    "# из переменной sex_upon_outcome создадим три - is_male, is_female, is_intact(не кастрирован)\n",
    "df['is_male'] = [ 1 if 'Male' in x else 0 for x in df.sex_upon_outcome ]\n",
    "df['is_female'] = [ 1 if 'Female' in x else 0 for x in df.sex_upon_outcome ]\n",
    "df['is_intact'] = [ 1 if 'Intact' in x else 0 for x in df.sex_upon_outcome ]\n",
    "df = df.drop('sex_upon_outcome', axis=1)\n",
    "df.head()"
   ]
  },
  {
   "cell_type": "code",
   "execution_count": 146,
   "metadata": {},
   "outputs": [
    {
     "data": {
      "text/plain": [
       "Domestic Shorthair Mix                  18788\n",
       "Pit Bull Mix                             3493\n",
       "Chihuahua Shorthair Mix                  3359\n",
       "Labrador Retriever Mix                   3214\n",
       "Domestic Medium Hair Mix                 1896\n",
       "                                        ...  \n",
       "Catahoula/Jack Russell Terrier              1\n",
       "Pit Bull/Queensland Heeler                  1\n",
       "Basset Hound/Dachshund                      1\n",
       "Chihuahua Longhair/Italian Greyhound        1\n",
       "Beagle/Chihuahua Longhair                   1\n",
       "Name: breed, Length: 1762, dtype: int64"
      ]
     },
     "execution_count": 146,
     "metadata": {},
     "output_type": "execute_result"
    }
   ],
   "source": [
    "# переходим к анализу переменной breed\n",
    "df['breed'].value_counts()"
   ]
  },
  {
   "cell_type": "code",
   "execution_count": 147,
   "metadata": {},
   "outputs": [
    {
     "data": {
      "text/plain": [
       "True     46102\n",
       "False     7527\n",
       "Name: breed, dtype: int64"
      ]
     },
     "execution_count": 147,
     "metadata": {},
     "output_type": "execute_result"
    }
   ],
   "source": [
    "df.breed.str.contains('Mix').value_counts()"
   ]
  },
  {
   "cell_type": "code",
   "execution_count": 148,
   "metadata": {},
   "outputs": [
    {
     "data": {
      "text/html": [
       "<div>\n",
       "<style scoped>\n",
       "    .dataframe tbody tr th:only-of-type {\n",
       "        vertical-align: middle;\n",
       "    }\n",
       "\n",
       "    .dataframe tbody tr th {\n",
       "        vertical-align: top;\n",
       "    }\n",
       "\n",
       "    .dataframe thead th {\n",
       "        text-align: right;\n",
       "    }\n",
       "</style>\n",
       "<table border=\"1\" class=\"dataframe\">\n",
       "  <thead>\n",
       "    <tr style=\"text-align: right;\">\n",
       "      <th></th>\n",
       "      <th>animal_type</th>\n",
       "      <th>color</th>\n",
       "      <th>datetime</th>\n",
       "      <th>days_upon_outcome</th>\n",
       "      <th>is_adopted</th>\n",
       "      <th>is_male</th>\n",
       "      <th>is_female</th>\n",
       "      <th>is_intact</th>\n",
       "      <th>is_mix</th>\n",
       "    </tr>\n",
       "  </thead>\n",
       "  <tbody>\n",
       "    <tr>\n",
       "      <th>0</th>\n",
       "      <td>Cat</td>\n",
       "      <td>Orange Tabby</td>\n",
       "      <td>735436</td>\n",
       "      <td>15</td>\n",
       "      <td>0</td>\n",
       "      <td>1</td>\n",
       "      <td>0</td>\n",
       "      <td>1</td>\n",
       "      <td>1</td>\n",
       "    </tr>\n",
       "    <tr>\n",
       "      <th>1</th>\n",
       "      <td>Dog</td>\n",
       "      <td>White/Brown</td>\n",
       "      <td>735179</td>\n",
       "      <td>366</td>\n",
       "      <td>0</td>\n",
       "      <td>0</td>\n",
       "      <td>1</td>\n",
       "      <td>0</td>\n",
       "      <td>1</td>\n",
       "    </tr>\n",
       "    <tr>\n",
       "      <th>2</th>\n",
       "      <td>Dog</td>\n",
       "      <td>Blue/White</td>\n",
       "      <td>735387</td>\n",
       "      <td>429</td>\n",
       "      <td>1</td>\n",
       "      <td>1</td>\n",
       "      <td>0</td>\n",
       "      <td>0</td>\n",
       "      <td>0</td>\n",
       "    </tr>\n",
       "    <tr>\n",
       "      <th>3</th>\n",
       "      <td>Dog</td>\n",
       "      <td>White</td>\n",
       "      <td>735399</td>\n",
       "      <td>3300</td>\n",
       "      <td>0</td>\n",
       "      <td>1</td>\n",
       "      <td>0</td>\n",
       "      <td>0</td>\n",
       "      <td>1</td>\n",
       "    </tr>\n",
       "    <tr>\n",
       "      <th>5</th>\n",
       "      <td>Dog</td>\n",
       "      <td>Brown/White</td>\n",
       "      <td>735148</td>\n",
       "      <td>126</td>\n",
       "      <td>0</td>\n",
       "      <td>1</td>\n",
       "      <td>0</td>\n",
       "      <td>1</td>\n",
       "      <td>1</td>\n",
       "    </tr>\n",
       "  </tbody>\n",
       "</table>\n",
       "</div>"
      ],
      "text/plain": [
       "  animal_type         color  datetime  days_upon_outcome  is_adopted  is_male  \\\n",
       "0         Cat  Orange Tabby    735436                 15           0        1   \n",
       "1         Dog   White/Brown    735179                366           0        0   \n",
       "2         Dog    Blue/White    735387                429           1        1   \n",
       "3         Dog         White    735399               3300           0        1   \n",
       "5         Dog   Brown/White    735148                126           0        1   \n",
       "\n",
       "   is_female  is_intact  is_mix  \n",
       "0          0          1       1  \n",
       "1          1          0       1  \n",
       "2          0          0       0  \n",
       "3          0          0       1  \n",
       "5          0          1       1  "
      ]
     },
     "execution_count": 148,
     "metadata": {},
     "output_type": "execute_result"
    }
   ],
   "source": [
    "# создадим переменную - чистая порода или нет\n",
    "df['is_mix'] = [ 1 if 'mix' in x else 0 for x in df.breed.str.lower() ]\n",
    "df = df.drop('breed', axis=1)\n",
    "df.head()"
   ]
  },
  {
   "cell_type": "code",
   "execution_count": 149,
   "metadata": {},
   "outputs": [
    {
     "data": {
      "text/plain": [
       "array(['Cat', 'Dog', 'Other', 'Bird', 'Livestock'], dtype=object)"
      ]
     },
     "execution_count": 149,
     "metadata": {},
     "output_type": "execute_result"
    }
   ],
   "source": [
    "#рассмотрим переменную animal_type\n",
    "df.animal_type.unique()"
   ]
  },
  {
   "cell_type": "code",
   "execution_count": 150,
   "metadata": {},
   "outputs": [
    {
     "data": {
      "text/html": [
       "<div>\n",
       "<style scoped>\n",
       "    .dataframe tbody tr th:only-of-type {\n",
       "        vertical-align: middle;\n",
       "    }\n",
       "\n",
       "    .dataframe tbody tr th {\n",
       "        vertical-align: top;\n",
       "    }\n",
       "\n",
       "    .dataframe thead th {\n",
       "        text-align: right;\n",
       "    }\n",
       "</style>\n",
       "<table border=\"1\" class=\"dataframe\">\n",
       "  <thead>\n",
       "    <tr style=\"text-align: right;\">\n",
       "      <th></th>\n",
       "      <th>color</th>\n",
       "      <th>datetime</th>\n",
       "      <th>days_upon_outcome</th>\n",
       "      <th>is_adopted</th>\n",
       "      <th>is_male</th>\n",
       "      <th>is_female</th>\n",
       "      <th>is_intact</th>\n",
       "      <th>is_mix</th>\n",
       "      <th>is_cat</th>\n",
       "      <th>is_dog</th>\n",
       "      <th>is_other</th>\n",
       "      <th>is_bird</th>\n",
       "      <th>is_livestock</th>\n",
       "    </tr>\n",
       "  </thead>\n",
       "  <tbody>\n",
       "    <tr>\n",
       "      <th>0</th>\n",
       "      <td>Orange Tabby</td>\n",
       "      <td>735436</td>\n",
       "      <td>15</td>\n",
       "      <td>0</td>\n",
       "      <td>1</td>\n",
       "      <td>0</td>\n",
       "      <td>1</td>\n",
       "      <td>1</td>\n",
       "      <td>1</td>\n",
       "      <td>0</td>\n",
       "      <td>0</td>\n",
       "      <td>0</td>\n",
       "      <td>0</td>\n",
       "    </tr>\n",
       "    <tr>\n",
       "      <th>1</th>\n",
       "      <td>White/Brown</td>\n",
       "      <td>735179</td>\n",
       "      <td>366</td>\n",
       "      <td>0</td>\n",
       "      <td>0</td>\n",
       "      <td>1</td>\n",
       "      <td>0</td>\n",
       "      <td>1</td>\n",
       "      <td>0</td>\n",
       "      <td>1</td>\n",
       "      <td>0</td>\n",
       "      <td>0</td>\n",
       "      <td>0</td>\n",
       "    </tr>\n",
       "    <tr>\n",
       "      <th>2</th>\n",
       "      <td>Blue/White</td>\n",
       "      <td>735387</td>\n",
       "      <td>429</td>\n",
       "      <td>1</td>\n",
       "      <td>1</td>\n",
       "      <td>0</td>\n",
       "      <td>0</td>\n",
       "      <td>0</td>\n",
       "      <td>0</td>\n",
       "      <td>1</td>\n",
       "      <td>0</td>\n",
       "      <td>0</td>\n",
       "      <td>0</td>\n",
       "    </tr>\n",
       "    <tr>\n",
       "      <th>3</th>\n",
       "      <td>White</td>\n",
       "      <td>735399</td>\n",
       "      <td>3300</td>\n",
       "      <td>0</td>\n",
       "      <td>1</td>\n",
       "      <td>0</td>\n",
       "      <td>0</td>\n",
       "      <td>1</td>\n",
       "      <td>0</td>\n",
       "      <td>1</td>\n",
       "      <td>0</td>\n",
       "      <td>0</td>\n",
       "      <td>0</td>\n",
       "    </tr>\n",
       "    <tr>\n",
       "      <th>5</th>\n",
       "      <td>Brown/White</td>\n",
       "      <td>735148</td>\n",
       "      <td>126</td>\n",
       "      <td>0</td>\n",
       "      <td>1</td>\n",
       "      <td>0</td>\n",
       "      <td>1</td>\n",
       "      <td>1</td>\n",
       "      <td>0</td>\n",
       "      <td>1</td>\n",
       "      <td>0</td>\n",
       "      <td>0</td>\n",
       "      <td>0</td>\n",
       "    </tr>\n",
       "  </tbody>\n",
       "</table>\n",
       "</div>"
      ],
      "text/plain": [
       "          color  datetime  days_upon_outcome  is_adopted  is_male  is_female  \\\n",
       "0  Orange Tabby    735436                 15           0        1          0   \n",
       "1   White/Brown    735179                366           0        0          1   \n",
       "2    Blue/White    735387                429           1        1          0   \n",
       "3         White    735399               3300           0        1          0   \n",
       "5   Brown/White    735148                126           0        1          0   \n",
       "\n",
       "   is_intact  is_mix  is_cat  is_dog  is_other  is_bird  is_livestock  \n",
       "0          1       1       1       0         0        0             0  \n",
       "1          0       1       0       1         0        0             0  \n",
       "2          0       0       0       1         0        0             0  \n",
       "3          0       1       0       1         0        0             0  \n",
       "5          1       1       0       1         0        0             0  "
      ]
     },
     "execution_count": 150,
     "metadata": {},
     "output_type": "execute_result"
    }
   ],
   "source": [
    "# создадим для каждого вида животного свой флаг\n",
    "df['is_cat'] = [ 1 if x=='Cat' else 0 for x in df.animal_type]\n",
    "df['is_dog'] = [ 1 if x=='Dog' else 0 for x in df.animal_type]\n",
    "df['is_other'] = [ 1 if x=='Other' else 0 for x in df.animal_type]\n",
    "df['is_bird'] = [ 1 if x=='Bird' else 0 for x in df.animal_type]\n",
    "df['is_livestock'] = [ 1 if x=='Livestock' else 0 for x in df.animal_type]\n",
    "df = df.drop('animal_type', axis=1)\n",
    "df.head()"
   ]
  },
  {
   "cell_type": "code",
   "execution_count": null,
   "metadata": {},
   "outputs": [],
   "source": []
  },
  {
   "cell_type": "code",
   "execution_count": null,
   "metadata": {},
   "outputs": [],
   "source": [
    "#модель "
   ]
  },
  {
   "cell_type": "code",
   "execution_count": 151,
   "metadata": {},
   "outputs": [
    {
     "name": "stdout",
     "output_type": "stream",
     "text": [
      "<class 'pandas.core.frame.DataFrame'>\n",
      "Int64Index: 53629 entries, 0 to 78255\n",
      "Data columns (total 13 columns):\n",
      "color                53629 non-null object\n",
      "datetime             53629 non-null int64\n",
      "days_upon_outcome    53629 non-null int64\n",
      "is_adopted           53629 non-null int64\n",
      "is_male              53629 non-null int64\n",
      "is_female            53629 non-null int64\n",
      "is_intact            53629 non-null int64\n",
      "is_mix               53629 non-null int64\n",
      "is_cat               53629 non-null int64\n",
      "is_dog               53629 non-null int64\n",
      "is_other             53629 non-null int64\n",
      "is_bird              53629 non-null int64\n",
      "is_livestock         53629 non-null int64\n",
      "dtypes: int64(12), object(1)\n",
      "memory usage: 5.7+ MB\n"
     ]
    }
   ],
   "source": [
    "df.info()"
   ]
  },
  {
   "cell_type": "code",
   "execution_count": 156,
   "metadata": {},
   "outputs": [],
   "source": [
    "X = df.drop(['is_adopted', 'color'], axis=1)    # также удалим столбец цвет животного\n",
    "Y = df['is_adopted']\n",
    "\n",
    "X_train, X_test, Y_train, Y_test = train_test_split(X, Y, test_size=0.3)"
   ]
  },
  {
   "cell_type": "code",
   "execution_count": 157,
   "metadata": {},
   "outputs": [
    {
     "data": {
      "text/plain": [
       "((37540, 11), (16089, 11), (37540,), (16089,))"
      ]
     },
     "execution_count": 157,
     "metadata": {},
     "output_type": "execute_result"
    }
   ],
   "source": [
    "X_train.shape, X_test.shape, Y_train.shape, Y_test.shape"
   ]
  },
  {
   "cell_type": "code",
   "execution_count": 158,
   "metadata": {},
   "outputs": [
    {
     "data": {
      "text/plain": [
       "RandomForestClassifier(bootstrap=True, ccp_alpha=0.0, class_weight=None,\n",
       "                       criterion='gini', max_depth=None, max_features='auto',\n",
       "                       max_leaf_nodes=None, max_samples=None,\n",
       "                       min_impurity_decrease=0.0, min_impurity_split=None,\n",
       "                       min_samples_leaf=1, min_samples_split=2,\n",
       "                       min_weight_fraction_leaf=0.0, n_estimators=100,\n",
       "                       n_jobs=None, oob_score=False, random_state=None,\n",
       "                       verbose=0, warm_start=False)"
      ]
     },
     "execution_count": 158,
     "metadata": {},
     "output_type": "execute_result"
    }
   ],
   "source": [
    "clf = RandomForestClassifier(n_estimators=100)\n",
    "clf.fit(X_train, Y_train)"
   ]
  },
  {
   "cell_type": "code",
   "execution_count": 159,
   "metadata": {},
   "outputs": [
    {
     "data": {
      "text/plain": [
       "0.8121076511902542"
      ]
     },
     "execution_count": 159,
     "metadata": {},
     "output_type": "execute_result"
    }
   ],
   "source": [
    "clf.score(X_test, Y_test)"
   ]
  },
  {
   "cell_type": "markdown",
   "metadata": {},
   "source": [
    "Точность модели около 80%"
   ]
  },
  {
   "cell_type": "code",
   "execution_count": null,
   "metadata": {},
   "outputs": [],
   "source": [
    "# профайлер"
   ]
  },
  {
   "cell_type": "code",
   "execution_count": 160,
   "metadata": {},
   "outputs": [
    {
     "data": {
      "text/plain": [
       "(51410, 13)"
      ]
     },
     "execution_count": 160,
     "metadata": {},
     "output_type": "execute_result"
    }
   ],
   "source": [
    "df.drop_duplicates().shape"
   ]
  },
  {
   "cell_type": "code",
   "execution_count": null,
   "metadata": {},
   "outputs": [],
   "source": [
    "df.profile_report()"
   ]
  }
 ],
 "metadata": {
  "kernelspec": {
   "display_name": "Python 3",
   "language": "python",
   "name": "python3"
  },
  "language_info": {
   "codemirror_mode": {
    "name": "ipython",
    "version": 3
   },
   "file_extension": ".py",
   "mimetype": "text/x-python",
   "name": "python",
   "nbconvert_exporter": "python",
   "pygments_lexer": "ipython3",
   "version": "3.7.7"
  }
 },
 "nbformat": 4,
 "nbformat_minor": 4
}
